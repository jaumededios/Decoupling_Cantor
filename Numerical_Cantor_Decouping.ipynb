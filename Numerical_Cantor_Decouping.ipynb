{
  "nbformat": 4,
  "nbformat_minor": 0,
  "metadata": {
    "colab": {
      "name": "Numerical_Cantor_Decouping.ipynb",
      "provenance": []
    },
    "kernelspec": {
      "name": "python3",
      "display_name": "Python 3"
    },
    "accelerator": "GPU"
  },
  "cells": [
    {
      "cell_type": "code",
      "metadata": {
        "id": "mV9bi4BZvXkV"
      },
      "source": [
        "import torch\n",
        "from matplotlib import pyplot as plt\n",
        "import numpy as np\n",
        "import time\n",
        "import torch.nn.functional as F"
      ],
      "execution_count": 1,
      "outputs": []
    },
    {
      "cell_type": "markdown",
      "metadata": {
        "id": "wW2HlZ42F0KB"
      },
      "source": [
        "This notebook outlines the code and algorithms in section 3.4 of the paper \n",
        "<h2>DECOUPLING  FOR  FRACTAL  SUBSETS  OF  THE  PARABOLA </h2>\n",
        "by Alan Chang, Jaume de Dios Pont, Rachel Greenfeld, Asgar Jamneshan, Zane Kun Li and José Madrid."
      ]
    },
    {
      "cell_type": "code",
      "metadata": {
        "colab": {
          "base_uri": "https://localhost:8080/"
        },
        "id": "S1FhqYFnFtuS",
        "outputId": "40f5145d-27c0-49e7-ed08-440a03035e08"
      },
      "source": [
        "if torch.cuda.is_available():  \n",
        "    print('Cuda is available')\n",
        "    device = \"cuda:0\" \n",
        "else:  \n",
        "    device = \"cpu\"  "
      ],
      "execution_count": null,
      "outputs": [
        {
          "output_type": "stream",
          "text": [
            "Cuda is available\n"
          ],
          "name": "stdout"
        }
      ]
    },
    {
      "cell_type": "markdown",
      "metadata": {
        "id": "hznmFmiEGbx5"
      },
      "source": [
        "The first ingredient that will be used throughought the commputations are the exponential sums \n",
        "\n",
        "$$\n",
        "\\Sigma_m(f) = \\sum_{\\substack{x_1+\\dots+x_n = y_1+\\dots y_n\\\\ x_i,y_i \\in \\mathcal E^D_t}} f(x_1)\\dots f(x_d) \\cdot \\overline{f(y_1)}\\dots \\overline{f(y_d)}\n",
        "$$\n",
        "c.f equation (24) in the original text. A first, (but computationally slow) approach to compute this sum is by reducing half the dimensions to:\n",
        "\n",
        "$$\n",
        "\\Sigma_m(f) = \\sum_{n\\in \\mathbb Z}\\left |\\sum_{\\substack{x_1+\\dots+x_n = n\\\\ x_i \\in \\mathcal E^D_t}} f(x_1)\\dots f(x_d)\\right|^2\n",
        "$$\n",
        "\n",
        "this is implemented (in a vectorized fashion) as follows:"
      ]
    },
    {
      "cell_type": "code",
      "metadata": {
        "id": "wjWU4di9vaGs"
      },
      "source": [
        "def weighted_sums(weights, values, num_sums = 2):\n",
        "    print(\"Use the fast method instead\")\n",
        "    #create a num_sums-dimensional tensor with the value of the sums on the lhs (or rhs)\n",
        "    sum_values = torch.sum(torch.stack(torch.meshgrid([values]*num_sums)), dim = 0) \n",
        "    #store an array with all the possible unique sums\n",
        "    unique_sum_values = torch.unique(sum_values)\n",
        "    #precompute the products $f(x_1)\\dots f(x_d)$\n",
        "    lhs_w = torch.prod(torch.stack(torch.meshgrid([weights]*num_sums)), dim = 0)\n",
        "    #sum the precomputed products when the sum is n, square and sum again \n",
        "    sum = torch.sum(torch.stack([torch.sum(lhs_w*(sum_values == n))**2 \n",
        "                                          for n in unique_sum_values]))\n",
        "    return sum"
      ],
      "execution_count": null,
      "outputs": []
    },
    {
      "cell_type": "markdown",
      "metadata": {
        "id": "T3UVGnH4IFkv"
      },
      "source": [
        "When the sets at hand are expected to be reasonably dense (namely when the number of sums times) the hausorff dimension is larger than 1, it is computationally efficient generate a *raster* representation of the function $f$ by simpy extending it as the function zero, and compute the sums by using built-in convolutions c.f. equation (43) on the text. Since Torch is a bit idiosyncratic (from the perspective of harmonic analysts) in the way it does convolutions we will use the previous method to assert whether this method has been coded successfully."
      ]
    },
    {
      "cell_type": "code",
      "metadata": {
        "id": "gJ4QEChPIcD6"
      },
      "source": [
        "def remove_padding(s):\n",
        "  # Removes zero padding on an array to save memory\n",
        "  # Rince vinogradov-type equations are translation invariant\n",
        "  # removing padding on the left should not alter the result\n",
        "  nz = s.nonzero(as_tuple=False)\n",
        "  return s[nz[0]:nz[-1]+1]\n",
        "\n",
        "def fast_weighted_sums(weights, values, num_sums = 2):\n",
        "    m = int(torch.min(values))\n",
        "    M = int(torch.max(values))\n",
        "    #set up a zero array to represent the function from m to M\n",
        "    w = torch.zeros(M-m+1,dtype = weights.dtype).to(weights.device)\n",
        "    #set the value of the function by\n",
        "    w[values-m] = weights\n",
        "    v = w\n",
        "    for j in range(num_sums-1):\n",
        "      v = F.conv1d(v.view(1,1,-1), \n",
        "                   w.view(1,1,-1),\n",
        "                   padding = M+len(v))[0][0]\n",
        "      v = remove_padding(v)\n",
        "    return torch.sum(v**2)"
      ],
      "execution_count": null,
      "outputs": []
    },
    {
      "cell_type": "markdown",
      "metadata": {
        "id": "I-DfU-OVJiAv"
      },
      "source": [
        "Now we can check that both algorithms return the same result:"
      ]
    },
    {
      "cell_type": "code",
      "metadata": {
        "id": "xSyahX_ydvxu",
        "colab": {
          "base_uri": "https://localhost:8080/"
        },
        "outputId": "faf3534e-a99e-4435-d872-2c68cf0a53f8"
      },
      "source": [
        "#checking that the new method works\n",
        "weights = torch.tensor([1.4,23,2.3,1.1])\n",
        "values = torch.tensor([1,2,4,5])\n",
        "n=3\n",
        "print(weighted_sums(weights,values, n))\n",
        "print(fast_weighted_sums(weights,values, n))"
      ],
      "execution_count": null,
      "outputs": [
        {
          "output_type": "stream",
          "text": [
            "Use the fast method instead\n",
            "tensor(1.7185e+08)\n",
            "tensor(1.7185e+08)\n"
          ],
          "name": "stdout"
        }
      ]
    },
    {
      "cell_type": "markdown",
      "metadata": {
        "id": "bfw_jI8gJ7g3"
      },
      "source": [
        "With this in hand we can alread define the decoupling lower bound associated to a function:"
      ]
    },
    {
      "cell_type": "code",
      "metadata": {
        "id": "Q9vjkpnSv9J5"
      },
      "source": [
        "def decoupling_lower_bound(weights, values, num_sums = 2):\n",
        "    l2 = (torch.sum(weights**2))**.5\n",
        "    l2n = (fast_weighted_sums(weights,values,num_sums))**(0.5/num_sums)\n",
        "    return l2n/l2"
      ],
      "execution_count": null,
      "outputs": []
    },
    {
      "cell_type": "markdown",
      "metadata": {
        "id": "C72sX8Dpwmz-"
      },
      "source": [
        "# Fixed point method\n",
        "\n",
        "The fixed point method from section 3.4 goes as follows. Let $\\Sigma_n(f)$ be the weighted $n$-sum. Then we are trying to maximize\n",
        "\n",
        "$$\n",
        "\\log \\Sigma_n(f) - n \\log \\|f\\|_2^2\n",
        "$$\n",
        "\n",
        "and by computing the derivative explicitly, at the limit we get:\n",
        "\n",
        "$$\n",
        "f = \\frac 1 {2 n\\Sigma_n(f)} \\nabla_f\\Sigma_n(f)\n",
        "$$\n",
        "\n",
        "This suggests a numerical method:\n",
        "\n",
        "$$\n",
        "f_{k+1} = \\frac 1 {2 n\\Sigma_n(f_k)} \\nabla_{f_k}\\Sigma_n(f_k)\n",
        "$$"
      ]
    },
    {
      "cell_type": "code",
      "metadata": {
        "id": "rWPr71l9v3cn"
      },
      "source": [
        "def experimental_method(values, num_sums, num_its = 15):\n",
        "  print('Starting decoupling for L2n, n=%d'%num_sums)\n",
        "  weights = (torch.randn(values.shape,dtype = torch.float64)**2+1).to(device).requires_grad_()\n",
        "  for i in range(num_its):\n",
        "    ws = fast_weighted_sums(weights, values, num_sums)\n",
        "    print(decoupling_lower_bound(weights, values, num_sums).cpu().detach().numpy(), end = '\\t')\n",
        "    ws.backward()\n",
        "    with torch.no_grad():\n",
        "      weights *= 0\n",
        "      weights += 1/(2*num_sums*ws)*weights.grad\n",
        "    weights.grad.data.zero_()\n",
        "  dec = decoupling_lower_bound(weights, values, num_sums)\n",
        "  dec.backward()\n",
        "  print(\"\\nFinal gradient: {:.4e}\".format(torch.sum(torch.abs(weights.grad.detach())).cpu().numpy()))\n",
        "  return (dec.detach().cpu().numpy(), weights.detach().cpu().numpy())"
      ],
      "execution_count": null,
      "outputs": []
    },
    {
      "cell_type": "markdown",
      "metadata": {
        "id": "u5hPMSjvKodw"
      },
      "source": [
        "The last tool we need is to compute $[\\mathcal E^{D}_p]_t$ from $\\mathcal E^{D}_p$ (both defined at the bottom of page 3 in the text). This is a base-p expansion which can be written in torch as follows:"
      ]
    },
    {
      "cell_type": "code",
      "metadata": {
        "id": "jGDMzXdJ0GpW"
      },
      "source": [
        "def expand_digits(orig_digits,base,num_digits):\n",
        "  #A list of $E, pE, p^2 E, ..$ \n",
        "  digit_values = [orig_digits*base**k for k in range(num_digits)]\n",
        "  # Sum all possible combinations of the list above with one element from\n",
        "  # each $p^kE$.\n",
        "  sum_values = torch.sum(torch.stack(torch.meshgrid(digit_values)), dim = 0)\n",
        "  # Return unique values (there should be no repeated values if p>Max(E))\n",
        "  return torch.unique(sum_values) "
      ],
      "execution_count": null,
      "outputs": []
    },
    {
      "cell_type": "markdown",
      "metadata": {
        "id": "cb10nS2FL57N"
      },
      "source": [
        "We may now iterate the fixed point method:"
      ]
    },
    {
      "cell_type": "code",
      "metadata": {
        "id": "m_Nqd9A6zHBh",
        "colab": {
          "base_uri": "https://localhost:8080/",
          "height": 241
        },
        "outputId": "1c761299-6381-4101-c25d-53d82bdabcdf"
      },
      "source": [
        "t = 10\n",
        "standard_cantor = expand_digits(torch.tensor([0,1]),3,t).to(device)\n",
        "num_sums = np.array([1,2,3,4,5])\n",
        "decoupling_values = []\n",
        "decoupling_weights = []\n",
        "for ns in num_sums:\n",
        "  val, wts = experimental_method(standard_cantor,ns, num_its = 10)\n",
        "  decoupling_values.append(val)\n",
        "  decoupling_weights.append(wts)\n",
        "decoupling_values = np.array(decoupling_values)\n",
        "decoupling_weights = np.array(decoupling_weights)"
      ],
      "execution_count": null,
      "outputs": [
        {
          "output_type": "stream",
          "text": [
            "Starting decoupling for L2n, n=2\n",
            "2.7556759606310752\t2.7556759606310757\t2.7556759606310752\t2.755675960631076\t2.7556759606310752\t2.755675960631076\t2.7556759606310752\t2.755675960631076\t2.7556759606310752\t2.755675960631076\t\n",
            "Final gradient: 1.5485e-14\n",
            "Starting decoupling for L2n, n=3\n",
            "5.25297199524274\t5.256175285773642\t5.256227786649917\t5.256228748560474\t5.256228767674208\t5.256228768071641\t5.256228768080093\t5.256228768080278\t5.256228768080279\t5.25622876808028\t\n",
            "Final gradient: 5.5340e-10\n",
            "Starting decoupling for L2n, n=4\n",
            "7.911717355994365\t7.916495450713211\t7.9165136473613265\t7.916513722436608\t7.91651372275253\t7.916513722753866\t7.91651372275387\t7.916513722753871\t7.916513722753871\t7.916513722753871\t\n",
            "Final gradient: 3.1070e-13\n",
            "Starting decoupling for L2n, n=5\n",
            "10.305648810321149\t10.310505387857031\t10.310510796633933\t10.310510802758138\t10.31051080276508\t10.310510802765085\t10.310510802765089\t10.310510802765085\t10.310510802765089\t10.310510802765084\t\n",
            "Final gradient: 3.8311e-14\n"
          ],
          "name": "stdout"
        }
      ]
    },
    {
      "cell_type": "markdown",
      "metadata": {
        "id": "hhPSpjo8MDvq"
      },
      "source": [
        "Under the assumption that the method above converges to the extremizer, it provides a lower bound to the decoupling exponent. As seen in Proposition XXX, an upper bound to the error is \n",
        "\n",
        "$$\n",
        "\\left |\\alpha_{2n}(\\mathcal E^{D}_{q}) - \\frac{\\log A_{2n, 1}([\\mathcal E^{D}_{q}]_{t})}{\\log k^{t}}\\right| \\leq \\frac{\\log(2n + 1)}{2nt\\log k}.\n",
        "$$"
      ]
    },
    {
      "cell_type": "code",
      "metadata": {
        "id": "rmWiSaDZzLke"
      },
      "source": [
        "def error(n,t,k=2):\n",
        "  return np.log(2*n+1)/(2*n*t*np.log(k))\n",
        "  \n",
        "e = error(num_sums,t)\n",
        "decexp  = np.log(decoupling_values)/np.log(len(standard_cantor))"
      ],
      "execution_count": null,
      "outputs": []
    },
    {
      "cell_type": "markdown",
      "metadata": {
        "id": "IAsoIPq9M9_p"
      },
      "source": [
        "Now all that remains is to plot the results:"
      ]
    },
    {
      "cell_type": "code",
      "metadata": {
        "id": "vAP29CMd4Sic",
        "colab": {
          "base_uri": "https://localhost:8080/",
          "height": 369
        },
        "outputId": "ac3e835b-0613-4a92-fb0f-38b23ef8abb0"
      },
      "source": [
        "p=2*num_sums\n",
        "ep = np.linspace(4,10,100)\n",
        "plt.figure(figsize=(6,5))\n",
        "plt.plot(ep, 1/2-1/ep,'k', label = r\"Interpolation upper bound ($\\frac{1}{2}-\\frac{1}{p}$)\")\n",
        "plt.plot(p,decexp,\n",
        "        'r.', label = \"Even integer computational lower bound\")\n",
        "plt.plot(p,np.log(decoupling_values)/np.log(len(standard_cantor))+e, 'r',\n",
        "         label = \"Computational upper bounds\")\n",
        "plt.xlabel(r'$L^p$ exponent $p$')\n",
        "plt.ylabel(r'DecExp${}_{l^2L^p}(C^{\\{1,2\\}})$')\n",
        "plt.title(r'Computational decoupling constants for $(C^{\\{1,2\\}})$'+'\\n')\n",
        "plt.legend()\n",
        "plt.tight_layout()\n",
        "plt.savefig('CompRes.png',dpi=250)"
      ],
      "execution_count": null,
      "outputs": [
        {
          "output_type": "display_data",
          "data": {
            "image/png": "[encoded data removed]",
            "text/plain": [
              "<Figure size 432x360 with 1 Axes>"
            ]
          },
          "metadata": {
            "tags": [],
            "needs_background": "light"
          }
        }
      ]
    },
    {
      "cell_type": "markdown",
      "metadata": {
        "id": "eUlALXzWTegy"
      },
      "source": [
        "# Standard gradient descent\n",
        "\n",
        "We provide an addaptive gradient descent approach to the extremizers of the discrete restriction inequalities. While much more iniefficient, and not guaranteed to converge to a global minima, it is more reasonable go expect convergence for gradient descent than for an ad-hoc algorithm with no guarantees. Both algorithms converge to essentially the same value in all the cases that were tested."
      ]
    },
    {
      "cell_type": "code",
      "metadata": {
        "id": "RZvXijOEpj-3"
      },
      "source": [
        "# Adaptive gradient descent method\n",
        "\n",
        "def GD_method(values, num_sums, lr =1, num_its = 15):\n",
        "  print('Starting decoupling for L2n, n=%d'%num_sums)\n",
        "  weights = (torch.randn(values.shape,dtype = torch.float64)**2+1).to(device).requires_grad_()\n",
        "  past_value = 0\n",
        "  for i in range(num_its):\n",
        "    value = decoupling_lower_bound(weights, values, num_sums)\n",
        "    print(value.cpu().detach().numpy(), end = '\\t')\n",
        "    value.backward()\n",
        "    with torch.no_grad():\n",
        "      #control \n",
        "      if past_value > value:\n",
        "        lr*=.25\n",
        "      else:\n",
        "        lr*=2\n",
        "      weights += lr*weights.grad\n",
        "    past_value = value.detach()\n",
        "    weights.grad.data.zero_()\n",
        "  dec = decoupling_lower_bound(weights, values, num_sums)\n",
        "  dec.backward()\n",
        "  print(\"\\nFinal gradient: {:.4e}\".format(torch.sum(torch.abs(weights.grad.detach())).cpu().numpy()))\n",
        "  return (dec.detach().cpu().numpy(), weights.detach().cpu().numpy())\n"
      ],
      "execution_count": null,
      "outputs": []
    },
    {
      "cell_type": "markdown",
      "metadata": {
        "id": "fTkA8y90VU2U"
      },
      "source": [
        "Test with the SGD algorithm (compare to the values obtained with the fixed-point algorithm)"
      ]
    },
    {
      "cell_type": "code",
      "metadata": {
        "colab": {
          "base_uri": "https://localhost:8080/"
        },
        "id": "JGljt0GBSduz",
        "outputId": "3524d909-547e-4fd4-b653-04eabaa064de"
      },
      "source": [
        "t = 10\n",
        "standard_cantor = expand_digits(torch.tensor([0,1]),3,t).to(device)\n",
        "val, wts = GD_method(standard_cantor,num_sums = 3, num_its = 40)"
      ],
      "execution_count": null,
      "outputs": [
        {
          "output_type": "stream",
          "text": [
            "Starting decoupling for L2n, n=3\n",
            "4.371113786963825\t4.373998830846363\t4.379747624112588\t4.391160273959212\t4.413647782808686\t4.457287670926239\t4.539360756638318\t4.683820795523405\t4.903717906913973\t5.1431220864433564\t5.253988762444653\t5.255172068219411\t5.250271799352534\t5.253468469524485\t5.2411237222412685\t5.249881667675746\t5.224446585852184\t5.245746090415849\t5.21211280041534\t5.246564717958989\t5.223408427516272\t5.251467078320787\t5.2422950300663\t5.254631977437008\t5.2518372763642205\t5.255767908653751\t5.254985674333979\t5.256101704037289\t5.255887885233968\t5.2561941741384555\t5.256136093502534\t5.2562193804687\t5.256203628156325\t5.256226222530833\t5.256221951558082\t5.256228077896325\t5.256226919876041\t5.256228580936675\t5.256228266926702\t5.256228717331457\t\n",
            "Final gradient: 3.0268e-04\n"
          ],
          "name": "stdout"
        }
      ]
    },
    {
      "cell_type": "code",
      "metadata": {
        "id": "cir8O2rBSjeu",
        "colab": {
          "base_uri": "https://localhost:8080/",
          "height": 35
        },
        "outputId": "3720b790-489b-4f66-b9cd-e3457ba0e0ac"
      },
      "source": [
        ""
      ],
      "execution_count": 2,
      "outputs": [
        {
          "output_type": "execute_result",
          "data": {
            "application/vnd.google.colaboratory.intrinsic+json": {
              "type": "string"
            },
            "text/plain": [
              "'1.7.0+cu101'"
            ]
          },
          "metadata": {
            "tags": []
          },
          "execution_count": 2
        }
      ]
    },
    {
      "cell_type": "code",
      "metadata": {
        "id": "r-wFVNndHnOV"
      },
      "source": [
        ""
      ],
      "execution_count": null,
      "outputs": []
    }
  ]
}